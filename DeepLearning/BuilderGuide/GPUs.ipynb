{
 "cells": [
  {
   "cell_type": "markdown",
   "id": "103dbfbb",
   "metadata": {},
   "source": [
    "# Testing"
   ]
  },
  {
   "cell_type": "code",
   "execution_count": 1,
   "id": "005070c2",
   "metadata": {},
   "outputs": [
    {
     "name": "stdout",
     "output_type": "stream",
     "text": [
      "tensor([1.], device='mps:0')\n"
     ]
    }
   ],
   "source": [
    "import torch\n",
    "if torch.backends.mps.is_available():\n",
    "    mps_device = torch.device(\"mps\")\n",
    "    x = torch.ones(1, device=mps_device)\n",
    "    print (x)\n",
    "else:\n",
    "    print (\"MPS device not found.\")"
   ]
  },
  {
   "cell_type": "code",
   "execution_count": 2,
   "id": "72ddfbf6",
   "metadata": {},
   "outputs": [],
   "source": [
    "cpu_device = torch.device(\"cpu\")"
   ]
  },
  {
   "cell_type": "code",
   "execution_count": 3,
   "id": "b666cf80",
   "metadata": {},
   "outputs": [],
   "source": [
    "x = torch.ones(1, device = cpu_device)"
   ]
  },
  {
   "cell_type": "markdown",
   "id": "d5ac4d0d",
   "metadata": {},
   "source": [
    "# D2l Begins Here"
   ]
  },
  {
   "cell_type": "code",
   "execution_count": 4,
   "id": "432462ac",
   "metadata": {},
   "outputs": [
    {
     "name": "stderr",
     "output_type": "stream",
     "text": [
      "Gym has been unmaintained since 2022 and does not support NumPy 2.0 amongst other critical functionality.\n",
      "Please upgrade to Gymnasium, the maintained drop-in replacement of Gym, or contact the authors of your software and request that they upgrade.\n",
      "See the migration guide at https://gymnasium.farama.org/introduction/migration_guide/ for additional information.\n"
     ]
    }
   ],
   "source": [
    "import torch\n",
    "from torch import nn\n",
    "from d2l import torch as d2l"
   ]
  },
  {
   "cell_type": "markdown",
   "id": "13bff9e0",
   "metadata": {},
   "source": [
    "# Computing Devices"
   ]
  },
  {
   "cell_type": "code",
   "execution_count": 6,
   "id": "56a36cd4",
   "metadata": {},
   "outputs": [
    {
     "data": {
      "text/plain": [
       "(device(type='cpu'), device(type='mps', index=0), device(type='mps', index=1))"
      ]
     },
     "execution_count": 6,
     "metadata": {},
     "output_type": "execute_result"
    }
   ],
   "source": [
    "def cpu():\n",
    "    return torch.device('cpu')\n",
    "\n",
    "def gpu(i = 0):\n",
    "    return torch.device(f'mps:{i}')\n",
    "\n",
    "cpu(), gpu(), gpu(1)"
   ]
  },
  {
   "cell_type": "code",
   "execution_count": 8,
   "id": "4d3761ad",
   "metadata": {},
   "outputs": [
    {
     "data": {
      "text/plain": [
       "1"
      ]
     },
     "execution_count": 8,
     "metadata": {},
     "output_type": "execute_result"
    }
   ],
   "source": [
    "def num_gpus():\n",
    "    return torch.mps.device_count()\n",
    "\n",
    "num_gpus()"
   ]
  },
  {
   "cell_type": "code",
   "execution_count": 9,
   "id": "e14a477d",
   "metadata": {},
   "outputs": [
    {
     "data": {
      "text/plain": [
       "(device(type='mps', index=0),\n",
       " device(type='cpu'),\n",
       " [device(type='mps', index=0)])"
      ]
     },
     "execution_count": 9,
     "metadata": {},
     "output_type": "execute_result"
    }
   ],
   "source": [
    "# Let's us run code even if requested GPU/s don't/doesn't exist\n",
    "\n",
    "def try_gpu(i = 0):\n",
    "    if num_gpus() >= i + 1:\n",
    "        return gpu(i)\n",
    "    else:\n",
    "        return cpu()\n",
    "\n",
    "def try_all_gpus():\n",
    "    return [gpu(i) for i in range(num_gpus())]\n",
    "\n",
    "try_gpu(), try_gpu(10), try_all_gpus()"
   ]
  },
  {
   "cell_type": "markdown",
   "id": "abf586e5",
   "metadata": {},
   "source": [
    "# Tensors and GPUs"
   ]
  },
  {
   "cell_type": "code",
   "execution_count": 18,
   "id": "e73019e2",
   "metadata": {},
   "outputs": [
    {
     "data": {
      "text/plain": [
       "device(type='cpu')"
      ]
     },
     "execution_count": 18,
     "metadata": {},
     "output_type": "execute_result"
    }
   ],
   "source": [
    "x = torch.arange(4)\n",
    "x.device"
   ]
  },
  {
   "cell_type": "markdown",
   "id": "7c810d2c",
   "metadata": {},
   "source": [
    "# Storage on the GPUs"
   ]
  },
  {
   "cell_type": "code",
   "execution_count": 20,
   "id": "f3812574",
   "metadata": {},
   "outputs": [
    {
     "data": {
      "text/plain": [
       "tensor([[1., 1., 1.],\n",
       "        [1., 1., 1.]], device='mps:0')"
      ]
     },
     "execution_count": 20,
     "metadata": {},
     "output_type": "execute_result"
    }
   ],
   "source": [
    "X = torch.ones(2,3, device = try_gpu())\n",
    "X"
   ]
  },
  {
   "cell_type": "markdown",
   "id": "3ea42ad0",
   "metadata": {},
   "source": [
    "# Neural Network and GPUs"
   ]
  },
  {
   "cell_type": "code",
   "execution_count": 21,
   "id": "bcdece0a",
   "metadata": {},
   "outputs": [],
   "source": [
    "net = nn.Sequential(nn.LazyLinear(1))\n",
    "net = net.to(device = try_gpu())"
   ]
  },
  {
   "cell_type": "code",
   "execution_count": 22,
   "id": "b527fc71",
   "metadata": {},
   "outputs": [
    {
     "data": {
      "text/plain": [
       "tensor([[-0.2836],\n",
       "        [-0.2836]], device='mps:0', grad_fn=<LinearBackward0>)"
      ]
     },
     "execution_count": 22,
     "metadata": {},
     "output_type": "execute_result"
    }
   ],
   "source": [
    "net(X)"
   ]
  },
  {
   "cell_type": "code",
   "execution_count": 25,
   "id": "64d80763",
   "metadata": {},
   "outputs": [
    {
     "data": {
      "text/plain": [
       "device(type='mps', index=0)"
      ]
     },
     "execution_count": 25,
     "metadata": {},
     "output_type": "execute_result"
    }
   ],
   "source": [
    "net[0].weight.data.device"
   ]
  }
 ],
 "metadata": {
  "kernelspec": {
   "display_name": ".venv (3.13.5)",
   "language": "python",
   "name": "python3"
  },
  "language_info": {
   "codemirror_mode": {
    "name": "ipython",
    "version": 3
   },
   "file_extension": ".py",
   "mimetype": "text/x-python",
   "name": "python",
   "nbconvert_exporter": "python",
   "pygments_lexer": "ipython3",
   "version": "3.13.5"
  }
 },
 "nbformat": 4,
 "nbformat_minor": 5
}
